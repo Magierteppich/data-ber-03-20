{
 "cells": [
  {
   "cell_type": "markdown",
   "metadata": {},
   "source": [
    "In the cell below, create a Python function that wraps your previous solution for the Bag of Words lab.\n",
    "\n",
    "Requirements:\n",
    "\n",
    "1. Your function should accept the following parameters:\n",
    "    * `docs` [REQUIRED] - array of document paths.\n",
    "    * `stop_words` [OPTIONAL] - array of stop words. The default value is an empty array.\n",
    "\n",
    "1. Your function should return a Python object that contains the following:\n",
    "    * `bag_of_words` - array of strings of normalized unique words in the corpus.\n",
    "    * `term_freq` - array of the term-frequency vectors."
   ]
  },
  {
   "cell_type": "code",
   "execution_count": 103,
   "metadata": {},
   "outputs": [],
   "source": [
    "def get_bow_from_docs(docs,stop_words=[]):\n",
    "\n",
    "    corpus = []\n",
    "    bag_of_words = []\n",
    "    stop_words = []\n",
    "    term_freq = []\n",
    "\n",
    "    for doc in docs: \n",
    "        f = open(doc,\"r\")\n",
    "        s = f.read()\n",
    "        s = \"\".join(c for c in s if c not in punctuation)\n",
    "        corpus.append(s.lower())\n",
    "        f.close()\n",
    "\n",
    "    for s in corpus:\n",
    "        s = \"\".join(c for c in s if c not in punctuation)\n",
    "        terms = s.split()\n",
    "        for term in terms:\n",
    "            if not term in bag_of_words and not term in stop_words:\n",
    "                bag_of_words.append(term)\n",
    "\n",
    "    for s in corpus:\n",
    "        freq = []\n",
    "        terms = s.split()\n",
    "        for word in bag_of_words:\n",
    "            freq.append(terms.count(word))\n",
    "        term_freq.append(freq)\n",
    "        \n",
    "    return {\n",
    "        \"bag_of_words\": bag_of_words,\n",
    "        \"term_freq\": term_freq\n",
    "    }\n",
    "\n"
   ]
  },
  {
   "cell_type": "markdown",
   "metadata": {},
   "source": [
    "Test your function without stop words. You should see the output like below:\n",
    "\n",
    "```{'bag_of_words': ['ironhack', 'is', 'cool', 'i', 'love', 'am', 'a', 'student', 'at'], 'term_freq': [[1, 1, 1, 0, 0, 0, 0, 0, 0], [1, 0, 0, 1, 1, 0, 0, 0, 0], [1, 0, 0, 1, 0, 1, 1, 1, 1]]}```"
   ]
  },
  {
   "cell_type": "code",
   "execution_count": 105,
   "metadata": {},
   "outputs": [
    {
     "data": {
      "text/plain": [
       "{'bag_of_words': ['ironhack',\n",
       "  'is',\n",
       "  'cool',\n",
       "  'i',\n",
       "  'love',\n",
       "  'am',\n",
       "  'a',\n",
       "  'student',\n",
       "  'at'],\n",
       " 'term_freq': [[1, 1, 1, 0, 0, 0, 0, 0, 0],\n",
       "  [1, 0, 0, 1, 1, 0, 0, 0, 0],\n",
       "  [1, 0, 0, 1, 0, 1, 1, 1, 1]]}"
      ]
     },
     "execution_count": 105,
     "metadata": {},
     "output_type": "execute_result"
    }
   ],
   "source": [
    "docs = [\"doc1.txt\", \"doc2.txt\", \"doc3.txt\"]\n",
    "\n",
    "get_bow_from_docs(docs)\n",
    "\n",
    "\n",
    "\n"
   ]
  },
  {
   "cell_type": "code",
   "execution_count": null,
   "metadata": {},
   "outputs": [],
   "source": []
  },
  {
   "cell_type": "markdown",
   "metadata": {},
   "source": [
    "If your attempt above is successful, nice work done!\n",
    "\n",
    "Now test your function again with the stop words. In the previous lab we defined the stop words in a large array. In this lab, we'll import the stop words from Scikit-Learn."
   ]
  },
  {
   "cell_type": "code",
   "execution_count": 107,
   "metadata": {},
   "outputs": [
    {
     "name": "stdout",
     "output_type": "stream",
     "text": [
      "['here', 'cry', 'any', 'fifteen', 'since', 'three', 're', 'thereupon', 'behind', 'thick', 'eight', 'an', 'hence', 'also', 'somewhere', 'but', 'have', 'together', 'sixty', 'herself', 'de', 'below', 'ours', 'now', 'out', 'against', 'yourselves', 'whither', 'in', 'among', 'by', 'interest', 'inc', 'eg', 'take', 'no', 'amongst', 'thence', 'cant', 'either', 'before', 'therein', 'towards', 'will', 'hers', 'itself', 'otherwise', 'others', 'whereas', 'of', 'between', 'couldnt', 'around', 'as', 'go', 'these', 'at', 'him', 'there', 'someone', 'back', 'anyway', 'move', 'perhaps', 'whereby', 'side', 'give', 'fire', 'can', 'ever', 'latter', 'us', 'still', 'beside', 'bottom', 'into', 'six', 'namely', 'whom', 'meanwhile', 'most', 'during', 'over', 'whether', 'keep', 'down', 'yours', 'almost', 'elsewhere', 'un', 'not', 'done', 'everyone', 'everywhere', 'becoming', 'within', 'seemed', 'sometime', 'sometimes', 'same', 'wherever', 'off', 'you', 'for', 'our', 'moreover', 'is', 'it', 'whoever', 'etc', 'though', 'could', 'afterwards', 'through', 'own', 'such', 'myself', 'detail', 'until', 'whole', 'another', 'had', 'system', 'while', 'how', 'nobody', 'other', 'along', 'hereafter', 'why', 'found', 'them', 'one', 'amoungst', 'thereafter', 'every', 'himself', 'get', 'do', 'mine', 'once', 'beforehand', 'to', 'about', 'after', 'cannot', 'somehow', 'twenty', 'mill', 'then', 'formerly', 'forty', 'being', 'whereupon', 'mostly', 'fill', 'anywhere', 'serious', 'whose', 'therefore', 'both', 'few', 'what', 'are', 'else', 'per', 'rather', 'he', 'this', 'enough', 'next', 'sincere', 'yet', 'top', 'upon', 'anyhow', 'hasnt', 'name', 'thru', 'however', 'onto', 'the', 'third', 'hundred', 'ourselves', 'something', 'or', 'thin', 'its', 'if', 'who', 'whenever', 'five', 'under', 'seems', 'anyone', 'part', 'would', 'alone', 'very', 'former', 'and', 'too', 'co', 'several', 'least', 'with', 'less', 'than', 'were', 'even', 'nowhere', 'besides', 'might', 'whatever', 'may', 'eleven', 'two', 'am', 'always', 'none', 'show', 'again', 'seeming', 'up', 'hereupon', 'full', 'see', 'ten', 'call', 'four', 'nor', 'throughout', 'be', 'describe', 'hereby', 'everything', 'herein', 'thus', 'his', 'has', 'she', 'please', 'each', 'on', 'neither', 'empty', 'although', 'seem', 'last', 'her', 'find', 'from', 'because', 'noone', 'thereby', 'whence', 'fifty', 'when', 'their', 'become', 'me', 'must', 'whereafter', 'front', 'put', 'some', 'was', 'bill', 'becomes', 'except', 'nothing', 'those', 'across', 'that', 'often', 'beyond', 'i', 'much', 'latterly', 'yourself', 'wherein', 'toward', 'more', 'where', 'which', 'above', 'we', 'well', 'nevertheless', 'already', 'further', 'indeed', 'a', 'con', 'via', 'became', 'ltd', 'your', 'should', 'my', 'been', 'many', 'twelve', 'without', 'ie', 'first', 'nine', 'all', 'anything', 'made', 'amount', 'themselves', 'so', 'never', 'they', 'due', 'only']\n"
     ]
    }
   ],
   "source": [
    "from sklearn.feature_extraction import stop_words\n",
    "print(list(stop_words.ENGLISH_STOP_WORDS))"
   ]
  },
  {
   "cell_type": "markdown",
   "metadata": {},
   "source": [
    "You should have seen a large list of words that looks like:\n",
    "\n",
    "```frozenset({'across', 'mine', 'cannot', ...})```\n",
    "\n",
    "`frozenset` is a type of Python object that is immutable. In this lab you can use it just like an array without conversion."
   ]
  },
  {
   "cell_type": "markdown",
   "metadata": {},
   "source": [
    "Next, test your function with supplying `stop_words.ENGLISH_STOP_WORDS` as the second parameter."
   ]
  },
  {
   "cell_type": "code",
   "execution_count": 109,
   "metadata": {},
   "outputs": [
    {
     "data": {
      "text/plain": [
       "{'bag_of_words': ['ironhack',\n",
       "  'is',\n",
       "  'cool',\n",
       "  'i',\n",
       "  'love',\n",
       "  'am',\n",
       "  'a',\n",
       "  'student',\n",
       "  'at'],\n",
       " 'term_freq': [[1, 1, 1, 0, 0, 0, 0, 0, 0],\n",
       "  [1, 0, 0, 1, 1, 0, 0, 0, 0],\n",
       "  [1, 0, 0, 1, 0, 1, 1, 1, 1]]}"
      ]
     },
     "execution_count": 109,
     "metadata": {},
     "output_type": "execute_result"
    }
   ],
   "source": [
    "stop_words = list(stop_words.ENGLISH_STOP_WORDS)\n",
    "get_bow_from_docs(docs,stop_words)\n"
   ]
  },
  {
   "cell_type": "markdown",
   "metadata": {},
   "source": [
    "You should have seen:\n",
    "\n",
    "```{'bag_of_words': ['ironhack', 'cool', 'love', 'student'], 'term_freq': [[1, 1, 0, 0], [1, 0, 1, 0], [1, 0, 0, 1]]}```"
   ]
  },
  {
   "cell_type": "code",
   "execution_count": null,
   "metadata": {},
   "outputs": [],
   "source": []
  }
 ],
 "metadata": {
  "kernelspec": {
   "display_name": "Python 3",
   "language": "python",
   "name": "python3"
  },
  "language_info": {
   "codemirror_mode": {
    "name": "ipython",
    "version": 3
   },
   "file_extension": ".py",
   "mimetype": "text/x-python",
   "name": "python",
   "nbconvert_exporter": "python",
   "pygments_lexer": "ipython3",
   "version": "3.7.6"
  }
 },
 "nbformat": 4,
 "nbformat_minor": 4
}
